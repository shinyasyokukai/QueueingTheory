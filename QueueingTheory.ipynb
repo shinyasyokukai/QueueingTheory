{
  "nbformat": 4,
  "nbformat_minor": 0,
  "metadata": {
    "colab": {
      "name": "QueueingTheory.ipynb",
      "provenance": [],
      "authorship_tag": "ABX9TyN7zDAen6VEMVS9HIWFd/Fa",
      "include_colab_link": true
    },
    "kernelspec": {
      "name": "python3",
      "display_name": "Python 3"
    },
    "language_info": {
      "name": "python"
    }
  },
  "cells": [
    {
      "cell_type": "markdown",
      "metadata": {
        "id": "view-in-github",
        "colab_type": "text"
      },
      "source": [
        "<a href=\"https://colab.research.google.com/github/shinyasyokukai/QueueingTheory/blob/main/QueueingTheory.ipynb\" target=\"_parent\"><img src=\"https://colab.research.google.com/assets/colab-badge.svg\" alt=\"Open In Colab\"/></a>"
      ]
    },
    {
      "cell_type": "markdown",
      "source": [
        "# 待ち行列理論\n",
        "## 参考にした資料\n",
        "http://www-optima.amp.i.kyoto-u.ac.jp/~takine/tmp/shiryou.pdf  \n",
        "https://qiita.com/SaitoTsutomu/items/f67c7e9f98dd27d94608  \n",
        "https://qiita.com/ogata-k/items/f5b43f96dc97c28cf49d  \n",
        "\n",
        "## 待ち行列理論とは？\n",
        "系 (待ち行列 + サーバ) に確率的に顧客がやってくる。  \n",
        "顧客は自分の番が来るまで待ち行列に並んで待ち、自分の番が来たらサーバでサービスを受ける。  \n",
        "顧客がサービスを受ける時間も確率的に決まる。  \n",
        "サービスを受け終わった顧客は系から脱出し、次の順番待ちをしていた顧客がサーバでサービスを受ける。  \n",
        "このような状況を記述する確率モデルが待ち行列理論である。  \n",
        "具体的なルールを  \n",
        "(顧客到着頻度の確率分布) / (サービス時間の確率分布) / (サーバ数) / (系の容量) / (サービスを受ける順番)  \n",
        "の形で記述する (ケンドールの記号)。  \n",
        "今回は「M/M/$1$/$\\infty$/先入先出」の場合のみ扱う (M/M/$1$ と略記する)。  \n",
        "より詳しくは、  \n",
        "M: 顧客到着数の累計がパラメータ $\\lambda$ のポアソン過程に従う  \n",
        "M: 顧客のサービス時間はパラメータ $\\mu$ の指数分布に従う  \n",
        "$1$: サーバの個数はただ $1$ つである  \n",
        "$\\infty$: 待ち行列の長さに上限を設けない  \n",
        "先入先出: 到着した順にサービスを受ける  \n",
        "という条件を考える。  \n",
        "ここに出てきたポアソン過程 (とその基礎となるポアソン分布) ・ 指数分布などの用語はそれ自身非常に重要な概念ではあるが、今回は最低限の解説にとどめるため深入りしない。  \n",
        "次のように理解しておけばとりあえず十分である。  \n",
        "### パラメータ $\\lambda$ のポアソン分布\n",
        "時間間隔 $\\Delta t$ 当たり平均 $\\lambda\\Delta t$ 人の顧客がランダムに到着する (特に単位時間 $\\Delta t = 1$ 当たり平均 $\\lambda$ 人の顧客が到着する) とき、単位時間当たりの顧客到着数が従う分布。  \n",
        "このとき時間間隔 $\\Delta t$ 当たりの顧客到着数はパラメータ $\\lambda\\Delta t$ のポアソン分布に従う。\n",
        "### パラメータ $\\lambda$ のポアソン過程\n",
        "時間間隔 $\\Delta t$ 当たり平均 $\\lambda\\Delta t$ 人の顧客がランダムに到着する (特に単位時間 $\\Delta t = 1$ 当たり平均 $\\lambda$ 人の顧客が到着する) とする。  \n",
        "時刻 $t$ における総顧客到着数を $X_t$ と書くとき、確率過程 $(X_t)_t$ をパラメータ $\\lambda$ のポアソン過程と呼ぶ。  \n",
        "このとき時刻 $t$ から時刻 $t+\\Delta t$ までに到着する顧客数 $X_{t+\\Delta t} - X_t$ はパラメータ $\\lambda\\Delta t$ のポアソン分布に従う。\n",
        "### パラメータ $\\mu$ の指数分布\n",
        "パラメータ $\\mu$ のポアソン過程について、顧客到着時間隔の従う分布。  \n",
        "逆に各顧客到着時間隔が独立かつパラメータ $\\mu$ の指数分布に従うなら、総顧客到着数はパラメータ $\\mu$ のポアソン過程となる。   \n",
        "つまりポアソン過程と指数分布は同じ現象を異なる視点から見ていることになる。  \n",
        "平均は直感の通り $1/\\mu$ となる (周波数と周期の関係を思い出されよ)。\n",
        "## リトルの公式\n",
        "平均系内顧客数 $L$ ・ 単位時間当たりの平均顧客到着人数 $\\lambda$ ・ \n",
        "平均滞在時間 $W$ を結びつけるのがリトルの公式である。  \n",
        "この公式の素晴らしい点は特定のルール (M/M/$1$ など) を仮定していない点である。  \n",
        "確率分布やサービスを受ける順番に関係なく、ほとんどいつでも適用できると考えてよい。  \n",
        "時刻 $t$ における系内顧客数を $L(t)$ 、時刻 $t$ までに系に到着した顧客の総数を $N(t)$ 、 $n$ 人目に到着した顧客の系内滞在時間を $W_n$ と書く。  \n",
        "$$\n",
        "\\begin{align}\n",
        "L &:= \\lim_{T\\rightarrow\\infty}\\frac{1}{T}\\int_0^T L(t)\\mathrm{d}t\\\\\n",
        "\\lambda &:=\\lim_{T\\rightarrow\\infty}\\frac{1}{T}\\int_0^T N(t)\\mathrm{d}t\\\\\n",
        "W &:= \\lim_{N\\rightarrow\\infty}\\frac{1}{N}\\sum_{n=1}^N W_n\n",
        "\\end{align}\n",
        "$$\n",
        "で $L$, $\\lambda$, $W$ を定義する。  \n",
        "この記号の元、系が \"安定\" ならば以下のリトルの公式が成立する。\n",
        "$$\n",
        "\\begin{align}\n",
        "L = \\lambda W\n",
        "\\end{align}\n",
        "$$\n",
        "### 証明\n",
        "工事中\n",
        "## 待ち行列とサーバに系を分解する\n",
        "系を待ち行列とサーバに分解し、  \n",
        "$L_q$: 平均待ち行列内顧客数  \n",
        "$L_s$: 平均サーバ内顧客数  \n",
        "$W_q$: 平均待ち行列内滞在時間  \n",
        "$W_s$: 平均サーバ内滞在時間  \n",
        "とする。当然 $L=L_q+L_s$ である。  \n",
        "また、リトルの公式より $L_q=\\lambda W_q$ と $L_s=\\lambda W_s$ が成立する。  \n",
        "($\\lambda$ が共通であることに注意する。)\n"
      ],
      "metadata": {
        "id": "c-0k44PNFaLo"
      }
    }
  ]
}